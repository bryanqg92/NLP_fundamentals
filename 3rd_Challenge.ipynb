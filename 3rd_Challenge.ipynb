{
  "cells": [
    {
      "cell_type": "markdown",
      "metadata": {
        "id": "sZd5yLnnHOK0"
      },
      "source": [
        "<img src=\"https://github.com/hernancontigiani/ceia_memorias_especializacion/raw/master/Figures/logoFIUBA.jpg\" width=\"500\" align=\"center\">\n",
        "\n",
        "\n",
        "# Procesamiento de lenguaje natural\n",
        "## Custom embedddings con Gensim\n",
        "\n"
      ]
    },
    {
      "cell_type": "markdown",
      "metadata": {
        "id": "vA7nqkumo9z9"
      },
      "source": [
        "### Objetivo\n",
        "El objetivo es utilizar documentos / corpus para crear embeddings de palabras basado en ese contexto. Se utilizará canciones de bandas para generar los embeddings, es decir, que los vectores tendrán la forma en función de como esa banda haya utilizado las palabras en sus canciones."
      ]
    },
    {
      "cell_type": "code",
      "execution_count": 1,
      "metadata": {
        "id": "lFToQs5FK5uZ"
      },
      "outputs": [],
      "source": [
        "import pandas as pd\n",
        "import matplotlib.pyplot as plt\n",
        "import seaborn as sns\n",
        "\n",
        "import multiprocessing\n",
        "from gensim.models import Word2Vec"
      ]
    },
    {
      "cell_type": "markdown",
      "metadata": {
        "id": "g07zJxG7H9vG"
      },
      "source": [
        "### Datos\n",
        "Utilizaremos como dataset canciones de bandas de habla inglesa."
      ]
    },
    {
      "cell_type": "code",
      "execution_count": 3,
      "metadata": {
        "id": "l7z4CSBfpR3X",
        "colab": {
          "base_uri": "https://localhost:8080/"
        },
        "outputId": "04b39fca-925c-4a36-f409-e0e0e3335159"
      },
      "outputs": [
        {
          "output_type": "stream",
          "name": "stdout",
          "text": [
            "El dataset ya se encuentra descargado\n"
          ]
        }
      ],
      "source": [
        "# Descargar la carpeta de dataset\n",
        "import os\n",
        "import platform\n",
        "if os.access('./songs_dataset', os.F_OK) is False:\n",
        "    if os.access('songs_dataset.zip', os.F_OK) is False:\n",
        "        if platform.system() == 'Windows':\n",
        "            !curl https://raw.githubusercontent.com/FIUBA-Posgrado-Inteligencia-Artificial/procesamiento_lenguaje_natural/main/datasets/songs_dataset.zip -o songs_dataset.zip\n",
        "        else:\n",
        "            !wget songs_dataset.zip https://github.com/FIUBA-Posgrado-Inteligencia-Artificial/procesamiento_lenguaje_natural/raw/main/datasets/songs_dataset.zip\n",
        "    !unzip -q songs_dataset.zip   \n",
        "else:\n",
        "    print(\"El dataset ya se encuentra descargado\")"
      ]
    },
    {
      "cell_type": "code",
      "execution_count": 4,
      "metadata": {
        "id": "mysGrIw9ljC2",
        "colab": {
          "base_uri": "https://localhost:8080/"
        },
        "outputId": "3b404eee-8b1c-4ba5-e1e2-5f94daee9791"
      },
      "outputs": [
        {
          "output_type": "execute_result",
          "data": {
            "text/plain": [
              "['bruce-springsteen.txt',\n",
              " 'adele.txt',\n",
              " 'dr-seuss.txt',\n",
              " 'missy-elliott.txt',\n",
              " 'kanye-west.txt',\n",
              " 'radiohead.txt',\n",
              " 'nickelback.txt',\n",
              " 'Kanye_West.txt',\n",
              " 'dickinson.txt',\n",
              " 'blink-182.txt',\n",
              " 'notorious_big.txt',\n",
              " 'disney.txt',\n",
              " 'paul-simon.txt',\n",
              " 'beatles.txt',\n",
              " 'cake.txt',\n",
              " 'dj-khaled.txt',\n",
              " 'ludacris.txt',\n",
              " 'janisjoplin.txt',\n",
              " 'michael-jackson.txt',\n",
              " 'lady-gaga.txt',\n",
              " 'kanye.txt',\n",
              " 'prince.txt',\n",
              " 'bob-marley.txt',\n",
              " 'bjork.txt',\n",
              " 'johnny-cash.txt',\n",
              " 'britney-spears.txt',\n",
              " 'al-green.txt',\n",
              " 'patti-smith.txt',\n",
              " 'nicki-minaj.txt',\n",
              " 'drake.txt',\n",
              " 'bieber.txt',\n",
              " 'nursery_rhymes.txt',\n",
              " 'r-kelly.txt',\n",
              " 'joni-mitchell.txt',\n",
              " 'Lil_Wayne.txt',\n",
              " 'dolly-parton.txt',\n",
              " 'jimi-hendrix.txt',\n",
              " 'lorde.txt',\n",
              " 'amy-winehouse.txt',\n",
              " 'bob-dylan.txt',\n",
              " 'nirvana.txt',\n",
              " 'bruno-mars.txt',\n",
              " 'rihanna.txt',\n",
              " 'lil-wayne.txt',\n",
              " 'eminem.txt',\n",
              " 'lin-manuel-miranda.txt',\n",
              " 'alicia-keys.txt',\n",
              " 'leonard-cohen.txt',\n",
              " 'notorious-big.txt']"
            ]
          },
          "metadata": {},
          "execution_count": 4
        }
      ],
      "source": [
        "# Posibles bandas\n",
        "os.listdir(\"./songs_dataset/\")"
      ]
    },
    {
      "cell_type": "code",
      "execution_count": 3,
      "metadata": {
        "id": "ticoqYD1Z3I7",
        "colab": {
          "base_uri": "https://localhost:8080/",
          "height": 1000
        },
        "outputId": "7158d340-be46-4a08-c90f-a63671a3a5d6"
      },
      "outputs": [
        {
          "output_type": "stream",
          "name": "stderr",
          "text": [
            "<ipython-input-3-975fd73aad19>:4: ParserWarning: Falling back to the 'python' engine because the 'c' engine does not support regex separators (separators > 1 char and different from '\\s+' are interpreted as regex); you can avoid this warning by specifying engine='python'.\n",
            "  df = pd.read_csv('/content/sample_data/corpus.txt', sep='/n', header=None)\n"
          ]
        },
        {
          "output_type": "execute_result",
          "data": {
            "text/plain": [
              "                                                    0\n",
              "0   Cuando estés muy lejos de la pared, pero te es...\n",
              "1   si te estas acercando a la pared, pero aún est...\n",
              "2   En caso de estar muy lejos de la pared y estás...\n",
              "3   En el caso de estar demasiado lejos de la pare...\n",
              "4   Cuando estés lejos de la pared, pero te estás ...\n",
              "5   si te estás acercando a la pared pero aún está...\n",
              "6   en caso de que te estés acercando al pared per...\n",
              "7   en caso de estar lejos de la pared pero te est...\n",
              "8   Cuando estés a la distancia requerida, pero te...\n",
              "9   si estas en la distancia que es, pero te vas a...\n",
              "10  en caso de que te estés acercando mientras est...\n",
              "11  si te estas acercando y estás a la distancia r...\n",
              "12  Cuando estés cerca a la pared, y te estás acer...\n",
              "13  si te estás acercando a la pared estando cerca...\n",
              "14  si estás en la distancia requerida y te estás ...\n",
              "15  cuando te estés acercando a la pared, pero est...\n",
              "16  Cuando estés muy cerca a la pared, y te estás ...\n",
              "17  si te estás acercando a la pared, pero ya está...\n",
              "18  si estás muy cerca a la pared y sigues acercán...\n",
              "19  en caso de que estés muy cerca a la pared y te...\n",
              "20  Cuando estés muy lejos de la pared, pero ni te...\n",
              "21  Cuando estás muy lejos de la pared y no te ace...\n",
              "22  En caso de que no te estés acercando ni alejan...\n",
              "23  si estás muy lejos de la pared y no te acercas...\n",
              "24  Cuando estés lejos de la pared, pero ni te ale...\n",
              "25  Si no te acercas y ni te alejas, pero estás le...\n",
              "26  en caso de que estés lejos de la pared y no te...\n",
              "27  cuando no te estés alejando ni acercando a la ...\n",
              "28  Cuando estés a la distancia requerida, y ni te...\n",
              "29  cuando estén a la distancia que es, y ni te ac...\n",
              "30  si no te acercas ni te alejas di la pared y es...\n",
              "31  en caso de que estés a la distancia requerida ...\n",
              "32  Cuando estés cerca a la pared, pero ni te acer...\n",
              "33  en caso de estar cerca a la pared y no te acer...\n",
              "34  si no te alejas ni te acercas a la pared, pero...\n",
              "35  cuando estés cerca de la pared y no te alejas ...\n",
              "36  Cuando estés muy cerca a la pared, pero ni te ...\n",
              "37  Si estás muy cerca a la pared pero no te acerc...\n",
              "38  Cuando te encuentres muy cerca a la pared sin ...\n",
              "39  Si te encuentras muy cerca a la pared sin acer...\n",
              "40  Cuando estés muy lejos de la pared, y te estás...\n",
              "41  si te estás alejando de la pared y aún te encu...\n",
              "42  si te encuentras muy lejos de la pared y sigue...\n",
              "43  en caso de estar muy lejos y sigues alejándote...\n",
              "44  Cuando estés lejos de la pared, y te estás ale...\n",
              "45  Si te encuentras lejos de la pared y te alejas...\n",
              "46  en caso de que te alejes de la pared y te encu...\n",
              "47  si estás lejos de la pared y te sigues alejand...\n",
              "48  Cuando estés a la distancia requerida, pero te...\n",
              "49  cuando estén a la distancia que es, y te estás...\n",
              "50  si te estás alejando pared y estás a la distan...\n",
              "51  en caso de que estés a la distancia requerida ...\n",
              "52  Cuando estés cerca a la pared, pero te estás a...\n",
              "53  en caso de estar cerca a la pared y te estás a...\n",
              "54  si te alejas de la pared, pero estás cerca de ...\n",
              "55  cuando estés cerca de la pared y te alejas de ...\n",
              "56  Cuando estés muy cerca a la pared, pero te est...\n",
              "57  Si estás muy cerca a la pared y te alejas de e...\n",
              "58  Cuando te encuentres muy cerca a la pared y te...\n",
              "59  Si te encuentras muy cerca de la pared y estás..."
            ],
            "text/html": [
              "\n",
              "  <div id=\"df-4e82513d-2b72-4b4a-97aa-0ad51f8668f4\">\n",
              "    <div class=\"colab-df-container\">\n",
              "      <div>\n",
              "<style scoped>\n",
              "    .dataframe tbody tr th:only-of-type {\n",
              "        vertical-align: middle;\n",
              "    }\n",
              "\n",
              "    .dataframe tbody tr th {\n",
              "        vertical-align: top;\n",
              "    }\n",
              "\n",
              "    .dataframe thead th {\n",
              "        text-align: right;\n",
              "    }\n",
              "</style>\n",
              "<table border=\"1\" class=\"dataframe\">\n",
              "  <thead>\n",
              "    <tr style=\"text-align: right;\">\n",
              "      <th></th>\n",
              "      <th>0</th>\n",
              "    </tr>\n",
              "  </thead>\n",
              "  <tbody>\n",
              "    <tr>\n",
              "      <th>0</th>\n",
              "      <td>Cuando estés muy lejos de la pared, pero te es...</td>\n",
              "    </tr>\n",
              "    <tr>\n",
              "      <th>1</th>\n",
              "      <td>si te estas acercando a la pared, pero aún est...</td>\n",
              "    </tr>\n",
              "    <tr>\n",
              "      <th>2</th>\n",
              "      <td>En caso de estar muy lejos de la pared y estás...</td>\n",
              "    </tr>\n",
              "    <tr>\n",
              "      <th>3</th>\n",
              "      <td>En el caso de estar demasiado lejos de la pare...</td>\n",
              "    </tr>\n",
              "    <tr>\n",
              "      <th>4</th>\n",
              "      <td>Cuando estés lejos de la pared, pero te estás ...</td>\n",
              "    </tr>\n",
              "    <tr>\n",
              "      <th>5</th>\n",
              "      <td>si te estás acercando a la pared pero aún está...</td>\n",
              "    </tr>\n",
              "    <tr>\n",
              "      <th>6</th>\n",
              "      <td>en caso de que te estés acercando al pared per...</td>\n",
              "    </tr>\n",
              "    <tr>\n",
              "      <th>7</th>\n",
              "      <td>en caso de estar lejos de la pared pero te est...</td>\n",
              "    </tr>\n",
              "    <tr>\n",
              "      <th>8</th>\n",
              "      <td>Cuando estés a la distancia requerida, pero te...</td>\n",
              "    </tr>\n",
              "    <tr>\n",
              "      <th>9</th>\n",
              "      <td>si estas en la distancia que es, pero te vas a...</td>\n",
              "    </tr>\n",
              "    <tr>\n",
              "      <th>10</th>\n",
              "      <td>en caso de que te estés acercando mientras est...</td>\n",
              "    </tr>\n",
              "    <tr>\n",
              "      <th>11</th>\n",
              "      <td>si te estas acercando y estás a la distancia r...</td>\n",
              "    </tr>\n",
              "    <tr>\n",
              "      <th>12</th>\n",
              "      <td>Cuando estés cerca a la pared, y te estás acer...</td>\n",
              "    </tr>\n",
              "    <tr>\n",
              "      <th>13</th>\n",
              "      <td>si te estás acercando a la pared estando cerca...</td>\n",
              "    </tr>\n",
              "    <tr>\n",
              "      <th>14</th>\n",
              "      <td>si estás en la distancia requerida y te estás ...</td>\n",
              "    </tr>\n",
              "    <tr>\n",
              "      <th>15</th>\n",
              "      <td>cuando te estés acercando a la pared, pero est...</td>\n",
              "    </tr>\n",
              "    <tr>\n",
              "      <th>16</th>\n",
              "      <td>Cuando estés muy cerca a la pared, y te estás ...</td>\n",
              "    </tr>\n",
              "    <tr>\n",
              "      <th>17</th>\n",
              "      <td>si te estás acercando a la pared, pero ya está...</td>\n",
              "    </tr>\n",
              "    <tr>\n",
              "      <th>18</th>\n",
              "      <td>si estás muy cerca a la pared y sigues acercán...</td>\n",
              "    </tr>\n",
              "    <tr>\n",
              "      <th>19</th>\n",
              "      <td>en caso de que estés muy cerca a la pared y te...</td>\n",
              "    </tr>\n",
              "    <tr>\n",
              "      <th>20</th>\n",
              "      <td>Cuando estés muy lejos de la pared, pero ni te...</td>\n",
              "    </tr>\n",
              "    <tr>\n",
              "      <th>21</th>\n",
              "      <td>Cuando estás muy lejos de la pared y no te ace...</td>\n",
              "    </tr>\n",
              "    <tr>\n",
              "      <th>22</th>\n",
              "      <td>En caso de que no te estés acercando ni alejan...</td>\n",
              "    </tr>\n",
              "    <tr>\n",
              "      <th>23</th>\n",
              "      <td>si estás muy lejos de la pared y no te acercas...</td>\n",
              "    </tr>\n",
              "    <tr>\n",
              "      <th>24</th>\n",
              "      <td>Cuando estés lejos de la pared, pero ni te ale...</td>\n",
              "    </tr>\n",
              "    <tr>\n",
              "      <th>25</th>\n",
              "      <td>Si no te acercas y ni te alejas, pero estás le...</td>\n",
              "    </tr>\n",
              "    <tr>\n",
              "      <th>26</th>\n",
              "      <td>en caso de que estés lejos de la pared y no te...</td>\n",
              "    </tr>\n",
              "    <tr>\n",
              "      <th>27</th>\n",
              "      <td>cuando no te estés alejando ni acercando a la ...</td>\n",
              "    </tr>\n",
              "    <tr>\n",
              "      <th>28</th>\n",
              "      <td>Cuando estés a la distancia requerida, y ni te...</td>\n",
              "    </tr>\n",
              "    <tr>\n",
              "      <th>29</th>\n",
              "      <td>cuando estén a la distancia que es, y ni te ac...</td>\n",
              "    </tr>\n",
              "    <tr>\n",
              "      <th>30</th>\n",
              "      <td>si no te acercas ni te alejas di la pared y es...</td>\n",
              "    </tr>\n",
              "    <tr>\n",
              "      <th>31</th>\n",
              "      <td>en caso de que estés a la distancia requerida ...</td>\n",
              "    </tr>\n",
              "    <tr>\n",
              "      <th>32</th>\n",
              "      <td>Cuando estés cerca a la pared, pero ni te acer...</td>\n",
              "    </tr>\n",
              "    <tr>\n",
              "      <th>33</th>\n",
              "      <td>en caso de estar cerca a la pared y no te acer...</td>\n",
              "    </tr>\n",
              "    <tr>\n",
              "      <th>34</th>\n",
              "      <td>si no te alejas ni te acercas a la pared, pero...</td>\n",
              "    </tr>\n",
              "    <tr>\n",
              "      <th>35</th>\n",
              "      <td>cuando estés cerca de la pared y no te alejas ...</td>\n",
              "    </tr>\n",
              "    <tr>\n",
              "      <th>36</th>\n",
              "      <td>Cuando estés muy cerca a la pared, pero ni te ...</td>\n",
              "    </tr>\n",
              "    <tr>\n",
              "      <th>37</th>\n",
              "      <td>Si estás muy cerca a la pared pero no te acerc...</td>\n",
              "    </tr>\n",
              "    <tr>\n",
              "      <th>38</th>\n",
              "      <td>Cuando te encuentres muy cerca a la pared sin ...</td>\n",
              "    </tr>\n",
              "    <tr>\n",
              "      <th>39</th>\n",
              "      <td>Si te encuentras muy cerca a la pared sin acer...</td>\n",
              "    </tr>\n",
              "    <tr>\n",
              "      <th>40</th>\n",
              "      <td>Cuando estés muy lejos de la pared, y te estás...</td>\n",
              "    </tr>\n",
              "    <tr>\n",
              "      <th>41</th>\n",
              "      <td>si te estás alejando de la pared y aún te encu...</td>\n",
              "    </tr>\n",
              "    <tr>\n",
              "      <th>42</th>\n",
              "      <td>si te encuentras muy lejos de la pared y sigue...</td>\n",
              "    </tr>\n",
              "    <tr>\n",
              "      <th>43</th>\n",
              "      <td>en caso de estar muy lejos y sigues alejándote...</td>\n",
              "    </tr>\n",
              "    <tr>\n",
              "      <th>44</th>\n",
              "      <td>Cuando estés lejos de la pared, y te estás ale...</td>\n",
              "    </tr>\n",
              "    <tr>\n",
              "      <th>45</th>\n",
              "      <td>Si te encuentras lejos de la pared y te alejas...</td>\n",
              "    </tr>\n",
              "    <tr>\n",
              "      <th>46</th>\n",
              "      <td>en caso de que te alejes de la pared y te encu...</td>\n",
              "    </tr>\n",
              "    <tr>\n",
              "      <th>47</th>\n",
              "      <td>si estás lejos de la pared y te sigues alejand...</td>\n",
              "    </tr>\n",
              "    <tr>\n",
              "      <th>48</th>\n",
              "      <td>Cuando estés a la distancia requerida, pero te...</td>\n",
              "    </tr>\n",
              "    <tr>\n",
              "      <th>49</th>\n",
              "      <td>cuando estén a la distancia que es, y te estás...</td>\n",
              "    </tr>\n",
              "    <tr>\n",
              "      <th>50</th>\n",
              "      <td>si te estás alejando pared y estás a la distan...</td>\n",
              "    </tr>\n",
              "    <tr>\n",
              "      <th>51</th>\n",
              "      <td>en caso de que estés a la distancia requerida ...</td>\n",
              "    </tr>\n",
              "    <tr>\n",
              "      <th>52</th>\n",
              "      <td>Cuando estés cerca a la pared, pero te estás a...</td>\n",
              "    </tr>\n",
              "    <tr>\n",
              "      <th>53</th>\n",
              "      <td>en caso de estar cerca a la pared y te estás a...</td>\n",
              "    </tr>\n",
              "    <tr>\n",
              "      <th>54</th>\n",
              "      <td>si te alejas de la pared, pero estás cerca de ...</td>\n",
              "    </tr>\n",
              "    <tr>\n",
              "      <th>55</th>\n",
              "      <td>cuando estés cerca de la pared y te alejas de ...</td>\n",
              "    </tr>\n",
              "    <tr>\n",
              "      <th>56</th>\n",
              "      <td>Cuando estés muy cerca a la pared, pero te est...</td>\n",
              "    </tr>\n",
              "    <tr>\n",
              "      <th>57</th>\n",
              "      <td>Si estás muy cerca a la pared y te alejas de e...</td>\n",
              "    </tr>\n",
              "    <tr>\n",
              "      <th>58</th>\n",
              "      <td>Cuando te encuentres muy cerca a la pared y te...</td>\n",
              "    </tr>\n",
              "    <tr>\n",
              "      <th>59</th>\n",
              "      <td>Si te encuentras muy cerca de la pared y estás...</td>\n",
              "    </tr>\n",
              "  </tbody>\n",
              "</table>\n",
              "</div>\n",
              "      <button class=\"colab-df-convert\" onclick=\"convertToInteractive('df-4e82513d-2b72-4b4a-97aa-0ad51f8668f4')\"\n",
              "              title=\"Convert this dataframe to an interactive table.\"\n",
              "              style=\"display:none;\">\n",
              "        \n",
              "  <svg xmlns=\"http://www.w3.org/2000/svg\" height=\"24px\"viewBox=\"0 0 24 24\"\n",
              "       width=\"24px\">\n",
              "    <path d=\"M0 0h24v24H0V0z\" fill=\"none\"/>\n",
              "    <path d=\"M18.56 5.44l.94 2.06.94-2.06 2.06-.94-2.06-.94-.94-2.06-.94 2.06-2.06.94zm-11 1L8.5 8.5l.94-2.06 2.06-.94-2.06-.94L8.5 2.5l-.94 2.06-2.06.94zm10 10l.94 2.06.94-2.06 2.06-.94-2.06-.94-.94-2.06-.94 2.06-2.06.94z\"/><path d=\"M17.41 7.96l-1.37-1.37c-.4-.4-.92-.59-1.43-.59-.52 0-1.04.2-1.43.59L10.3 9.45l-7.72 7.72c-.78.78-.78 2.05 0 2.83L4 21.41c.39.39.9.59 1.41.59.51 0 1.02-.2 1.41-.59l7.78-7.78 2.81-2.81c.8-.78.8-2.07 0-2.86zM5.41 20L4 18.59l7.72-7.72 1.47 1.35L5.41 20z\"/>\n",
              "  </svg>\n",
              "      </button>\n",
              "      \n",
              "  <style>\n",
              "    .colab-df-container {\n",
              "      display:flex;\n",
              "      flex-wrap:wrap;\n",
              "      gap: 12px;\n",
              "    }\n",
              "\n",
              "    .colab-df-convert {\n",
              "      background-color: #E8F0FE;\n",
              "      border: none;\n",
              "      border-radius: 50%;\n",
              "      cursor: pointer;\n",
              "      display: none;\n",
              "      fill: #1967D2;\n",
              "      height: 32px;\n",
              "      padding: 0 0 0 0;\n",
              "      width: 32px;\n",
              "    }\n",
              "\n",
              "    .colab-df-convert:hover {\n",
              "      background-color: #E2EBFA;\n",
              "      box-shadow: 0px 1px 2px rgba(60, 64, 67, 0.3), 0px 1px 3px 1px rgba(60, 64, 67, 0.15);\n",
              "      fill: #174EA6;\n",
              "    }\n",
              "\n",
              "    [theme=dark] .colab-df-convert {\n",
              "      background-color: #3B4455;\n",
              "      fill: #D2E3FC;\n",
              "    }\n",
              "\n",
              "    [theme=dark] .colab-df-convert:hover {\n",
              "      background-color: #434B5C;\n",
              "      box-shadow: 0px 1px 3px 1px rgba(0, 0, 0, 0.15);\n",
              "      filter: drop-shadow(0px 1px 2px rgba(0, 0, 0, 0.3));\n",
              "      fill: #FFFFFF;\n",
              "    }\n",
              "  </style>\n",
              "\n",
              "      <script>\n",
              "        const buttonEl =\n",
              "          document.querySelector('#df-4e82513d-2b72-4b4a-97aa-0ad51f8668f4 button.colab-df-convert');\n",
              "        buttonEl.style.display =\n",
              "          google.colab.kernel.accessAllowed ? 'block' : 'none';\n",
              "\n",
              "        async function convertToInteractive(key) {\n",
              "          const element = document.querySelector('#df-4e82513d-2b72-4b4a-97aa-0ad51f8668f4');\n",
              "          const dataTable =\n",
              "            await google.colab.kernel.invokeFunction('convertToInteractive',\n",
              "                                                     [key], {});\n",
              "          if (!dataTable) return;\n",
              "\n",
              "          const docLinkHtml = 'Like what you see? Visit the ' +\n",
              "            '<a target=\"_blank\" href=https://colab.research.google.com/notebooks/data_table.ipynb>data table notebook</a>'\n",
              "            + ' to learn more about interactive tables.';\n",
              "          element.innerHTML = '';\n",
              "          dataTable['output_type'] = 'display_data';\n",
              "          await google.colab.output.renderOutput(dataTable, element);\n",
              "          const docLink = document.createElement('div');\n",
              "          docLink.innerHTML = docLinkHtml;\n",
              "          element.appendChild(docLink);\n",
              "        }\n",
              "      </script>\n",
              "    </div>\n",
              "  </div>\n",
              "  "
            ]
          },
          "metadata": {},
          "execution_count": 3
        }
      ],
      "source": [
        "# Armar el dataset utilizando salto de línea para separar las oraciones/docs\n",
        "#df = pd.read_csv('songs_dataset/beatles.txt', sep='/n', header=None)\n",
        "\n",
        "df = pd.read_csv('/content/sample_data/corpus.txt', sep='/n', header=None)\n",
        "df.head(200)"
      ]
    },
    {
      "cell_type": "code",
      "execution_count": 4,
      "metadata": {
        "id": "LEpKubK9XzXN",
        "colab": {
          "base_uri": "https://localhost:8080/"
        },
        "outputId": "ce4eefb8-4991-4c4d-d378-a8bd7f35631f"
      },
      "outputs": [
        {
          "output_type": "stream",
          "name": "stdout",
          "text": [
            "Cantidad de documentos: 60\n"
          ]
        }
      ],
      "source": [
        "print(\"Cantidad de documentos:\", df.shape[0])"
      ]
    },
    {
      "cell_type": "markdown",
      "metadata": {
        "id": "ab94qaFlrA1G"
      },
      "source": [
        "### 1 - Preprocesamiento"
      ]
    },
    {
      "cell_type": "code",
      "execution_count": 5,
      "metadata": {
        "id": "rIsmMWmjrDHd"
      },
      "outputs": [],
      "source": [
        "from keras.preprocessing.text import text_to_word_sequence\n",
        "\n",
        "sentence_tokens = []\n",
        "# Recorrer todas las filas y transformar las oraciones\n",
        "# en una secuencia de palabras (esto podría realizarse con NLTK o spaCy también)\n",
        "for _, row in df[:None].iterrows():\n",
        "    sentence_tokens.append(text_to_word_sequence(row[0]))"
      ]
    },
    {
      "cell_type": "code",
      "execution_count": 6,
      "metadata": {
        "id": "CHepi_DGrbhq",
        "colab": {
          "base_uri": "https://localhost:8080/"
        },
        "outputId": "93fde0bd-40fc-4171-d79c-746b2f950605"
      },
      "outputs": [
        {
          "output_type": "execute_result",
          "data": {
            "text/plain": [
              "[['cuando',\n",
              "  'estés',\n",
              "  'muy',\n",
              "  'lejos',\n",
              "  'de',\n",
              "  'la',\n",
              "  'pared',\n",
              "  'pero',\n",
              "  'te',\n",
              "  'estás',\n",
              "  'acercando',\n",
              "  'a',\n",
              "  'ella',\n",
              "  'gira',\n",
              "  'tu',\n",
              "  'rueda',\n",
              "  'izquierda',\n",
              "  'rápidamente',\n",
              "  'hacia',\n",
              "  'delante',\n",
              "  'y',\n",
              "  'gira',\n",
              "  'tu',\n",
              "  'rueda',\n",
              "  'derecha',\n",
              "  'muy',\n",
              "  'lento',\n",
              "  'hacia',\n",
              "  'atrás'],\n",
              " ['si',\n",
              "  'te',\n",
              "  'estas',\n",
              "  'acercando',\n",
              "  'a',\n",
              "  'la',\n",
              "  'pared',\n",
              "  'pero',\n",
              "  'aún',\n",
              "  'estás',\n",
              "  'demasiado',\n",
              "  'lejos',\n",
              "  'de',\n",
              "  'ella',\n",
              "  'gira',\n",
              "  'tu',\n",
              "  'rueda',\n",
              "  'izquierda',\n",
              "  'rápidamente',\n",
              "  'hacia',\n",
              "  'adelante',\n",
              "  'y',\n",
              "  'la',\n",
              "  'rueda',\n",
              "  'derecha',\n",
              "  'lentamente',\n",
              "  'hacia',\n",
              "  'atrás']]"
            ]
          },
          "metadata": {},
          "execution_count": 6
        }
      ],
      "source": [
        "# Demos un vistazo\n",
        "sentence_tokens[:2]"
      ]
    },
    {
      "cell_type": "markdown",
      "metadata": {
        "id": "BaXV6nlHr5Aa"
      },
      "source": [
        "### 2 - Crear los vectores (word2vec)"
      ]
    },
    {
      "cell_type": "code",
      "execution_count": 133,
      "metadata": {
        "id": "OSb0v7h8r7hK"
      },
      "outputs": [],
      "source": [
        "from gensim.models.callbacks import CallbackAny2Vec\n",
        "# Durante el entrenamiento gensim por defecto no informa el \"loss\" en cada época\n",
        "# Sobrecargamos el callback para poder tener esta información\n",
        "class callback(CallbackAny2Vec):\n",
        "    \"\"\"\n",
        "    Callback to print loss after each epoch\n",
        "    \"\"\"\n",
        "    def __init__(self):\n",
        "        self.epoch = 0\n",
        "\n",
        "    def on_epoch_end(self, model):\n",
        "        loss = model.get_latest_training_loss()\n",
        "        if self.epoch == 0:\n",
        "            print('Loss after epoch {}: {}'.format(self.epoch, loss))\n",
        "        else:\n",
        "            print('Loss after epoch {}: {}'.format(self.epoch, loss- self.loss_previous_step))\n",
        "        self.epoch += 1\n",
        "        self.loss_previous_step = loss"
      ]
    },
    {
      "cell_type": "code",
      "execution_count": 183,
      "metadata": {
        "id": "i0wnDdv9sJ47"
      },
      "outputs": [],
      "source": [
        "# Crearmos el modelo generador de vectores\n",
        "# En este caso utilizaremos la estructura modelo Skipgram\n",
        "w2v_model = Word2Vec(min_count=1,    # frecuencia mínima de palabra para incluirla en el vocabulario\n",
        "                     window=2,       # cant de palabras antes y desp de la predicha\n",
        "                     vector_size=15,       # dimensionalidad de los vectores \n",
        "                     negative=20,    # cantidad de negative samples... 0 es no se usa\n",
        "                     workers=1,      # si tienen más cores pueden cambiar este valor\n",
        "                     sg=1)           # modelo 0:CBOW  1:skipgram"
      ]
    },
    {
      "cell_type": "code",
      "execution_count": 184,
      "metadata": {
        "id": "5lTt8wErsf17"
      },
      "outputs": [],
      "source": [
        "# Obtener el vocabulario con los tokens\n",
        "w2v_model.build_vocab(sentence_tokens)"
      ]
    },
    {
      "cell_type": "code",
      "execution_count": 185,
      "metadata": {
        "id": "TNc9qt4os5AT",
        "colab": {
          "base_uri": "https://localhost:8080/"
        },
        "outputId": "a13b7224-af04-42d1-ada6-a0b45e6b3f78"
      },
      "outputs": [
        {
          "output_type": "stream",
          "name": "stdout",
          "text": [
            "Cantidad de docs en el corpus: 60\n"
          ]
        }
      ],
      "source": [
        "# Cantidad de filas/docs encontradas en el corpus\n",
        "print(\"Cantidad de docs en el corpus:\", w2v_model.corpus_count)"
      ]
    },
    {
      "cell_type": "code",
      "execution_count": 186,
      "metadata": {
        "id": "idw9cHF3tSMl",
        "colab": {
          "base_uri": "https://localhost:8080/"
        },
        "outputId": "72ebd545-aec3-451e-959e-0764b5984407"
      },
      "outputs": [
        {
          "output_type": "stream",
          "name": "stdout",
          "text": [
            "Cantidad de words distintas en el corpus: 94\n"
          ]
        }
      ],
      "source": [
        "# Cantidad de words encontradas en el corpus\n",
        "print(\"Cantidad de words distintas en el corpus:\", len(w2v_model.wv.index_to_key))"
      ]
    },
    {
      "cell_type": "markdown",
      "metadata": {
        "id": "fC9mZ8DPk-UC"
      },
      "source": [
        "### 3 - Entrenar el modelo generador"
      ]
    },
    {
      "cell_type": "code",
      "execution_count": 187,
      "metadata": {
        "id": "QSp-x0PAsq56",
        "colab": {
          "base_uri": "https://localhost:8080/"
        },
        "outputId": "17351030-3d84-4407-a0e7-4cfeec653f9b"
      },
      "outputs": [
        {
          "output_type": "stream",
          "name": "stdout",
          "text": [
            "Loss after epoch 0: 16069.677734375\n",
            "Loss after epoch 1: 6675.951171875\n",
            "Loss after epoch 2: 5604.9609375\n",
            "Loss after epoch 3: 5483.484375\n",
            "Loss after epoch 4: 5885.48828125\n",
            "Loss after epoch 5: 5867.609375\n",
            "Loss after epoch 6: 5774.37109375\n",
            "Loss after epoch 7: 5829.17578125\n",
            "Loss after epoch 8: 5717.94140625\n",
            "Loss after epoch 9: 5468.35546875\n",
            "Loss after epoch 10: 5406.171875\n",
            "Loss after epoch 11: 5733.65625\n",
            "Loss after epoch 12: 5575.03125\n",
            "Loss after epoch 13: 5575.2109375\n",
            "Loss after epoch 14: 5587.3515625\n",
            "Loss after epoch 15: 6042.578125\n",
            "Loss after epoch 16: 4997.2109375\n",
            "Loss after epoch 17: 5125.953125\n",
            "Loss after epoch 18: 5542.8515625\n",
            "Loss after epoch 19: 5275.140625\n",
            "Loss after epoch 20: 6007.5625\n",
            "Loss after epoch 21: 5118.703125\n",
            "Loss after epoch 22: 5384.03125\n",
            "Loss after epoch 23: 5238.75\n",
            "Loss after epoch 24: 5028.71875\n",
            "Loss after epoch 25: 5482.53125\n",
            "Loss after epoch 26: 5409.5625\n",
            "Loss after epoch 27: 5350.140625\n",
            "Loss after epoch 28: 5129.484375\n",
            "Loss after epoch 29: 5252.046875\n"
          ]
        },
        {
          "output_type": "execute_result",
          "data": {
            "text/plain": [
              "(16233, 53340)"
            ]
          },
          "metadata": {},
          "execution_count": 187
        }
      ],
      "source": [
        "# Entrenamos el modelo generador de vectores\n",
        "# Utilizamos nuestro callback\n",
        "w2v_model.train(sentence_tokens,\n",
        "                 total_examples=w2v_model.corpus_count,\n",
        "                 epochs=30,\n",
        "                 compute_loss = True,\n",
        "                 callbacks=[callback()]\n",
        "                 )"
      ]
    },
    {
      "cell_type": "markdown",
      "metadata": {
        "id": "ddT9NVuNlCAe"
      },
      "source": [
        "### 4 - Ensayar"
      ]
    },
    {
      "cell_type": "code",
      "execution_count": 188,
      "metadata": {
        "id": "6cHN9xGLuPEm",
        "colab": {
          "base_uri": "https://localhost:8080/"
        },
        "outputId": "34d23c58-6a65-4590-d093-ce50c275105c"
      },
      "outputs": [
        {
          "output_type": "execute_result",
          "data": {
            "text/plain": [
              "[('lejos', 0.9954859614372253),\n",
              " ('si', 0.9925446510314941),\n",
              " ('a', 0.9890255928039551),\n",
              " ('estar', 0.9883588552474976),\n",
              " ('estás', 0.9881230592727661),\n",
              " ('cerca', 0.987986147403717),\n",
              " ('cuando', 0.9879797101020813),\n",
              " ('aún', 0.9873345494270325),\n",
              " ('alejando', 0.9869476556777954),\n",
              " ('pero', 0.9864088892936707)]"
            ]
          },
          "metadata": {},
          "execution_count": 188
        }
      ],
      "source": [
        "# Palabras que MÁS se relacionan con...:\n",
        "w2v_model.wv.most_similar(positive=[\"acercando\"], topn=10)"
      ]
    },
    {
      "cell_type": "code",
      "execution_count": 189,
      "metadata": {
        "id": "47HiU5gdkdMq",
        "colab": {
          "base_uri": "https://localhost:8080/"
        },
        "outputId": "dc84e24d-fad2-412a-c57b-85e32e194b9f"
      },
      "outputs": [
        {
          "output_type": "execute_result",
          "data": {
            "text/plain": [
              "[('hacia', -0.5032098889350891),\n",
              " ('derecha', -0.5390797853469849),\n",
              " ('rueda', -0.5432543158531189),\n",
              " ('rápido', -0.5518162250518799),\n",
              " ('delante', -0.5688991546630859),\n",
              " ('tu', -0.5773341655731201),\n",
              " ('atrás', -0.5809046626091003),\n",
              " ('izquierda', -0.6039652824401855),\n",
              " ('adelante', -0.6101663112640381),\n",
              " ('lento', -0.6242133378982544)]"
            ]
          },
          "metadata": {},
          "execution_count": 189
        }
      ],
      "source": [
        "# Palabras que MENOS se relacionan con...:\n",
        "w2v_model.wv.most_similar(negative=[\"pared\"], topn=10)"
      ]
    },
    {
      "cell_type": "code",
      "execution_count": 190,
      "metadata": {
        "id": "DT4Rvno2mD65",
        "colab": {
          "base_uri": "https://localhost:8080/"
        },
        "outputId": "78fc941b-f964-4e36-a968-fc7b061b58aa"
      },
      "outputs": [
        {
          "output_type": "execute_result",
          "data": {
            "text/plain": [
              "[('tu', 0.9925791621208191),\n",
              " ('izquierda', 0.991791844367981),\n",
              " ('delante', 0.9910332560539246),\n",
              " ('rápido', 0.9881554245948792),\n",
              " ('hacia', 0.985762894153595),\n",
              " ('rueda', 0.9844350814819336),\n",
              " ('lento', 0.9825069308280945),\n",
              " ('atrás', 0.9820074439048767),\n",
              " ('adelante', 0.9810807704925537),\n",
              " ('despacito', 0.9790036678314209)]"
            ]
          },
          "metadata": {},
          "execution_count": 190
        }
      ],
      "source": [
        "# Palabras que MÁS se relacionan con...:\n",
        "w2v_model.wv.most_similar(positive=[\"derecha\"], topn=10)"
      ]
    },
    {
      "cell_type": "code",
      "execution_count": 191,
      "metadata": {
        "id": "XPLDPgzBmQXt",
        "colab": {
          "base_uri": "https://localhost:8080/"
        },
        "outputId": "31f7d764-1ae3-4c7c-80a0-83e370d0fc17"
      },
      "outputs": [
        {
          "output_type": "execute_result",
          "data": {
            "text/plain": [
              "[('que', 0.9872562289237976),\n",
              " ('cuando', 0.9871909022331238),\n",
              " ('estés', 0.98658287525177),\n",
              " ('estar', 0.9853087067604065),\n",
              " ('pero', 0.9848620295524597)]"
            ]
          },
          "metadata": {},
          "execution_count": 191
        }
      ],
      "source": [
        "# Palabras que MÁS se relacionan con...:\n",
        "w2v_model.wv.most_similar(positive=[\"distancia\"], topn=5)"
      ]
    },
    {
      "cell_type": "code",
      "execution_count": 26,
      "metadata": {
        "id": "L_UvHPMMklOr",
        "colab": {
          "base_uri": "https://localhost:8080/",
          "height": 345
        },
        "outputId": "3a904382-2be7-479b-99c4-21ff5a22cfcc"
      },
      "outputs": [
        {
          "output_type": "error",
          "ename": "KeyError",
          "evalue": "ignored",
          "traceback": [
            "\u001b[0;31m---------------------------------------------------------------------------\u001b[0m",
            "\u001b[0;31mKeyError\u001b[0m                                  Traceback (most recent call last)",
            "\u001b[0;32m<ipython-input-26-93d902aa5dab>\u001b[0m in \u001b[0;36m<cell line: 2>\u001b[0;34m()\u001b[0m\n\u001b[1;32m      1\u001b[0m \u001b[0;31m# Ensayar con una palabra que no está en el vocabulario:\u001b[0m\u001b[0;34m\u001b[0m\u001b[0;34m\u001b[0m\u001b[0m\n\u001b[0;32m----> 2\u001b[0;31m \u001b[0mw2v_model\u001b[0m\u001b[0;34m.\u001b[0m\u001b[0mwv\u001b[0m\u001b[0;34m.\u001b[0m\u001b[0mmost_similar\u001b[0m\u001b[0;34m(\u001b[0m\u001b[0mnegative\u001b[0m\u001b[0;34m=\u001b[0m\u001b[0;34m[\u001b[0m\u001b[0;34m\"diedaa\"\u001b[0m\u001b[0;34m]\u001b[0m\u001b[0;34m)\u001b[0m\u001b[0;34m\u001b[0m\u001b[0;34m\u001b[0m\u001b[0m\n\u001b[0m",
            "\u001b[0;32m/usr/local/lib/python3.10/dist-packages/gensim/models/keyedvectors.py\u001b[0m in \u001b[0;36mmost_similar\u001b[0;34m(self, positive, negative, topn, clip_start, clip_end, restrict_vocab, indexer)\u001b[0m\n\u001b[1;32m    839\u001b[0m \u001b[0;34m\u001b[0m\u001b[0m\n\u001b[1;32m    840\u001b[0m         \u001b[0;31m# compute the weighted average of all keys\u001b[0m\u001b[0;34m\u001b[0m\u001b[0;34m\u001b[0m\u001b[0m\n\u001b[0;32m--> 841\u001b[0;31m         \u001b[0mmean\u001b[0m \u001b[0;34m=\u001b[0m \u001b[0mself\u001b[0m\u001b[0;34m.\u001b[0m\u001b[0mget_mean_vector\u001b[0m\u001b[0;34m(\u001b[0m\u001b[0mkeys\u001b[0m\u001b[0;34m,\u001b[0m \u001b[0mweight\u001b[0m\u001b[0;34m,\u001b[0m \u001b[0mpre_normalize\u001b[0m\u001b[0;34m=\u001b[0m\u001b[0;32mTrue\u001b[0m\u001b[0;34m,\u001b[0m \u001b[0mpost_normalize\u001b[0m\u001b[0;34m=\u001b[0m\u001b[0;32mTrue\u001b[0m\u001b[0;34m,\u001b[0m \u001b[0mignore_missing\u001b[0m\u001b[0;34m=\u001b[0m\u001b[0;32mFalse\u001b[0m\u001b[0;34m)\u001b[0m\u001b[0;34m\u001b[0m\u001b[0;34m\u001b[0m\u001b[0m\n\u001b[0m\u001b[1;32m    842\u001b[0m         all_keys = [\n\u001b[1;32m    843\u001b[0m             \u001b[0mself\u001b[0m\u001b[0;34m.\u001b[0m\u001b[0mget_index\u001b[0m\u001b[0;34m(\u001b[0m\u001b[0mkey\u001b[0m\u001b[0;34m)\u001b[0m \u001b[0;32mfor\u001b[0m \u001b[0mkey\u001b[0m \u001b[0;32min\u001b[0m \u001b[0mkeys\u001b[0m \u001b[0;32mif\u001b[0m \u001b[0misinstance\u001b[0m\u001b[0;34m(\u001b[0m\u001b[0mkey\u001b[0m\u001b[0;34m,\u001b[0m \u001b[0m_KEY_TYPES\u001b[0m\u001b[0;34m)\u001b[0m \u001b[0;32mand\u001b[0m \u001b[0mself\u001b[0m\u001b[0;34m.\u001b[0m\u001b[0mhas_index_for\u001b[0m\u001b[0;34m(\u001b[0m\u001b[0mkey\u001b[0m\u001b[0;34m)\u001b[0m\u001b[0;34m\u001b[0m\u001b[0;34m\u001b[0m\u001b[0m\n",
            "\u001b[0;32m/usr/local/lib/python3.10/dist-packages/gensim/models/keyedvectors.py\u001b[0m in \u001b[0;36mget_mean_vector\u001b[0;34m(self, keys, weights, pre_normalize, post_normalize, ignore_missing)\u001b[0m\n\u001b[1;32m    516\u001b[0m                 \u001b[0mtotal_weight\u001b[0m \u001b[0;34m+=\u001b[0m \u001b[0mabs\u001b[0m\u001b[0;34m(\u001b[0m\u001b[0mweights\u001b[0m\u001b[0;34m[\u001b[0m\u001b[0midx\u001b[0m\u001b[0;34m]\u001b[0m\u001b[0;34m)\u001b[0m\u001b[0;34m\u001b[0m\u001b[0;34m\u001b[0m\u001b[0m\n\u001b[1;32m    517\u001b[0m             \u001b[0;32melif\u001b[0m \u001b[0;32mnot\u001b[0m \u001b[0mignore_missing\u001b[0m\u001b[0;34m:\u001b[0m\u001b[0;34m\u001b[0m\u001b[0;34m\u001b[0m\u001b[0m\n\u001b[0;32m--> 518\u001b[0;31m                 \u001b[0;32mraise\u001b[0m \u001b[0mKeyError\u001b[0m\u001b[0;34m(\u001b[0m\u001b[0;34mf\"Key '{key}' not present in vocabulary\"\u001b[0m\u001b[0;34m)\u001b[0m\u001b[0;34m\u001b[0m\u001b[0;34m\u001b[0m\u001b[0m\n\u001b[0m\u001b[1;32m    519\u001b[0m \u001b[0;34m\u001b[0m\u001b[0m\n\u001b[1;32m    520\u001b[0m         \u001b[0;32mif\u001b[0m \u001b[0mtotal_weight\u001b[0m \u001b[0;34m>\u001b[0m \u001b[0;36m0\u001b[0m\u001b[0;34m:\u001b[0m\u001b[0;34m\u001b[0m\u001b[0;34m\u001b[0m\u001b[0m\n",
            "\u001b[0;31mKeyError\u001b[0m: \"Key 'diedaa' not present in vocabulary\""
          ]
        }
      ],
      "source": [
        "# Ensayar con una palabra que no está en el vocabulario:\n",
        "w2v_model.wv.most_similar(negative=[\"diedaa\"])"
      ]
    },
    {
      "cell_type": "markdown",
      "metadata": {
        "id": "_g8UVWe6lFmh"
      },
      "source": [
        "### 5 - Visualizar agrupación de vectores"
      ]
    },
    {
      "cell_type": "code",
      "execution_count": 153,
      "metadata": {
        "id": "pDxEVXAivjr9"
      },
      "outputs": [],
      "source": [
        "from sklearn.decomposition import IncrementalPCA    \n",
        "from sklearn.manifold import TSNE                   \n",
        "import numpy as np                                  \n",
        "\n",
        "def reduce_dimensions(model):\n",
        "    num_dimensions = 2  \n",
        "\n",
        "    vectors = np.asarray(model.wv.vectors)\n",
        "    labels = np.asarray(model.wv.index_to_key)  \n",
        "\n",
        "    tsne = TSNE(n_components=num_dimensions, random_state=0)\n",
        "    vectors = tsne.fit_transform(vectors)\n",
        "\n",
        "    x_vals = [v[0] for v in vectors]\n",
        "    y_vals = [v[1] for v in vectors]\n",
        "    return x_vals, y_vals, labels"
      ]
    },
    {
      "cell_type": "code",
      "execution_count": 192,
      "metadata": {
        "id": "NCCXtDpcugmd",
        "colab": {
          "base_uri": "https://localhost:8080/",
          "height": 542
        },
        "outputId": "a9569cf7-1e51-400e-bcc5-4422f4e0b9b6"
      },
      "outputs": [
        {
          "output_type": "display_data",
          "data": {
            "text/html": [
              "<html>\n",
              "<head><meta charset=\"utf-8\" /></head>\n",
              "<body>\n",
              "    <div>            <script src=\"https://cdnjs.cloudflare.com/ajax/libs/mathjax/2.7.5/MathJax.js?config=TeX-AMS-MML_SVG\"></script><script type=\"text/javascript\">if (window.MathJax && window.MathJax.Hub && window.MathJax.Hub.Config) {window.MathJax.Hub.Config({SVG: {font: \"STIX-Web\"}});}</script>                <script type=\"text/javascript\">window.PlotlyConfig = {MathJaxConfig: 'local'};</script>\n",
              "        <script src=\"https://cdn.plot.ly/plotly-2.18.2.min.js\"></script>                <div id=\"017a89a7-baba-443c-aaf0-ff3f1dc0ae0f\" class=\"plotly-graph-div\" style=\"height:525px; width:100%;\"></div>            <script type=\"text/javascript\">                                    window.PLOTLYENV=window.PLOTLYENV || {};                                    if (document.getElementById(\"017a89a7-baba-443c-aaf0-ff3f1dc0ae0f\")) {                    Plotly.newPlot(                        \"017a89a7-baba-443c-aaf0-ff3f1dc0ae0f\",                        [{\"hovertemplate\":\"x=%{x}<br>y=%{y}<br>text=%{text}<extra></extra>\",\"legendgroup\":\"\",\"marker\":{\"color\":\"#636efa\",\"symbol\":\"circle\"},\"mode\":\"markers+text\",\"name\":\"\",\"orientation\":\"v\",\"showlegend\":false,\"text\":[\"la\",\"hacia\",\"rueda\",\"y\",\"de\",\"te\",\"tu\",\"izquierda\",\"muy\",\"derecha\",\"atr\\u00e1s\",\"pared\",\"gira\",\"a\",\"ella\",\"est\\u00e1s\",\"r\\u00e1pido\",\"est\\u00e9s\",\"adelante\",\"pero\",\"despacito\",\"delante\",\"cuando\",\"lejos\",\"ni\",\"cerca\",\"si\",\"acercando\",\"lento\",\"girar\",\"alejas\",\"debes\",\"alejando\",\"en\",\"r\\u00e1pidamente\",\"que\",\"caso\",\"distancia\",\"m\\u00e1s\",\"acercas\",\"bastante\",\"no\",\"hac\\u00eda\",\"requerida\",\"mientras\",\"manera\",\"giras\",\"a\\u00fan\",\"o\",\"estar\",\"medio\",\"misma\",\"es\",\"menos\",\"encuentras\",\"vas\",\"alej\\u00e1ndote\",\"sigues\",\"estas\",\"acerc\\u00e1ndote\",\"encuentres\",\"igualmente\",\"demasiado\",\"sin\",\"acercarte\",\"est\\u00e9n\",\"lenta\",\"dos\",\"necesario\",\"ruedas\",\"al\",\"correcta\",\"tampoco\",\"gires\",\"alejes\",\"lentamente\",\"va\",\"vez\",\"cada\",\"aun\",\"alejarte\",\"e\",\"las\",\"di\",\"adem\\u00e1s\",\"el\",\"igual\",\"sigas\",\"tus\",\"ya\",\"mientas\",\"estando\",\"rapidez\",\"algo\"],\"x\":[-3.860760450363159,6.81298303604126,6.662724018096924,2.7811548709869385,-5.431713581085205,-7.297222137451172,6.57570219039917,6.132925033569336,4.186061382293701,6.843977451324463,6.223557472229004,-7.279185771942139,5.409001350402832,-6.026831150054932,-0.3506881594657898,-6.4612507820129395,6.736042022705078,-7.228571891784668,5.976452827453613,-6.179707050323486,5.721837520599365,6.478278636932373,-6.174084663391113,-5.680426120758057,-6.770575046539307,-6.521182537078857,-5.621562957763672,-5.412891864776611,5.6977410316467285,3.2022926807403564,-6.074789524078369,0.7094535231590271,-4.6217827796936035,-6.238061904907227,4.7477922439575195,-6.432775020599365,-7.472753524780273,-6.882009506225586,0.8174892663955688,-6.055698871612549,4.792885780334473,-6.877147674560547,4.262400150299072,-5.234082221984863,4.935875415802002,3.2280240058898926,4.555629253387451,-4.228008270263672,4.452085018157959,-5.933004379272461,4.94528341293335,2.2205917835235596,-5.938109397888184,5.579802989959717,-3.729557752609253,-0.24775919318199158,-0.8328463435173035,-3.4014511108398438,-3.979377031326294,-1.3708654642105103,-4.453813552856445,3.804819107055664,-1.4992793798446655,-2.163609027862549,-1.4385253190994263,-2.558055877685547,0.9462323784828186,0.2082652896642685,-1.8343174457550049,0.6904048919677734,-1.8356989622116089,1.5649266242980957,-2.0721826553344727,0.672717273235321,-2.9732117652893066,1.7910466194152832,1.2193394899368286,-0.4825691878795624,-0.9551321268081665,-0.050341710448265076,-1.5513715744018555,1.5945332050323486,-0.6685196757316589,-2.7120771408081055,-0.9494962096214294,-1.7719976902008057,0.3145439326763153,-0.8460614681243896,0.6391807198524475,-1.3269286155700684,1.4768037796020508,-0.2952367067337036,1.0650439262390137,0.767778754234314],\"xaxis\":\"x\",\"y\":[-0.3062549829483032,2.300035238265991,2.1982645988464355,0.8686356544494629,-1.4216029644012451,-0.4976876378059387,1.609567403793335,1.6546961069107056,1.2907156944274902,1.7240846157073975,2.264113664627075,-0.9853104948997498,1.4956579208374023,-2.137632131576538,2.166991949081421,-0.9773193001747131,2.0410807132720947,-1.58354914188385,1.9306470155715942,-1.4527028799057007,1.3755242824554443,1.6818071603775024,-2.0317351818084717,-1.760667324066162,0.2057712823152542,-1.3513964414596558,-1.1622271537780762,-1.7552158832550049,2.0807650089263916,1.5938084125518799,0.6641616225242615,-0.8811289072036743,-0.8722807168960571,-1.4619213342666626,2.0338029861450195,-2.3597915172576904,-2.074848175048828,-2.0870115756988525,2.3289453983306885,0.4287773668766022,1.5119894742965698,-0.04708171263337135,1.6774570941925049,-2.5169639587402344,2.176649808883667,1.52961266040802,2.007794141769409,-0.9695608615875244,0.6396797895431519,-1.8350344896316528,1.4267781972885132,1.9552907943725586,-1.0187643766403198,0.7955536246299744,-1.053504467010498,0.6217024922370911,1.064454436302185,-0.9044345617294312,-0.6152634620666504,-0.26023951172828674,-0.8378454446792603,1.5064791440963745,0.3734683394432068,0.35107576847076416,1.4892340898513794,-0.06563001871109009,1.5586562156677246,1.2232757806777954,0.7512819766998291,1.1553460359573364,-0.1714690774679184,0.13597679138183594,1.6241896152496338,0.017290253192186356,-0.5584255456924438,1.3661357164382935,0.6428174376487732,1.1696112155914307,1.4922783374786377,0.19308145344257355,1.1967939138412476,1.183885097503662,0.8783400058746338,0.1190761923789978,0.19298358261585236,-0.3511672019958496,0.4514722228050232,-0.38680973649024963,1.5123090744018555,0.3728284537792206,0.49653273820877075,0.18575303256511688,0.9742967486381531,0.17956337332725525],\"yaxis\":\"y\",\"type\":\"scatter\"}],                        {\"template\":{\"data\":{\"histogram2dcontour\":[{\"type\":\"histogram2dcontour\",\"colorbar\":{\"outlinewidth\":0,\"ticks\":\"\"},\"colorscale\":[[0.0,\"#0d0887\"],[0.1111111111111111,\"#46039f\"],[0.2222222222222222,\"#7201a8\"],[0.3333333333333333,\"#9c179e\"],[0.4444444444444444,\"#bd3786\"],[0.5555555555555556,\"#d8576b\"],[0.6666666666666666,\"#ed7953\"],[0.7777777777777778,\"#fb9f3a\"],[0.8888888888888888,\"#fdca26\"],[1.0,\"#f0f921\"]]}],\"choropleth\":[{\"type\":\"choropleth\",\"colorbar\":{\"outlinewidth\":0,\"ticks\":\"\"}}],\"histogram2d\":[{\"type\":\"histogram2d\",\"colorbar\":{\"outlinewidth\":0,\"ticks\":\"\"},\"colorscale\":[[0.0,\"#0d0887\"],[0.1111111111111111,\"#46039f\"],[0.2222222222222222,\"#7201a8\"],[0.3333333333333333,\"#9c179e\"],[0.4444444444444444,\"#bd3786\"],[0.5555555555555556,\"#d8576b\"],[0.6666666666666666,\"#ed7953\"],[0.7777777777777778,\"#fb9f3a\"],[0.8888888888888888,\"#fdca26\"],[1.0,\"#f0f921\"]]}],\"heatmap\":[{\"type\":\"heatmap\",\"colorbar\":{\"outlinewidth\":0,\"ticks\":\"\"},\"colorscale\":[[0.0,\"#0d0887\"],[0.1111111111111111,\"#46039f\"],[0.2222222222222222,\"#7201a8\"],[0.3333333333333333,\"#9c179e\"],[0.4444444444444444,\"#bd3786\"],[0.5555555555555556,\"#d8576b\"],[0.6666666666666666,\"#ed7953\"],[0.7777777777777778,\"#fb9f3a\"],[0.8888888888888888,\"#fdca26\"],[1.0,\"#f0f921\"]]}],\"heatmapgl\":[{\"type\":\"heatmapgl\",\"colorbar\":{\"outlinewidth\":0,\"ticks\":\"\"},\"colorscale\":[[0.0,\"#0d0887\"],[0.1111111111111111,\"#46039f\"],[0.2222222222222222,\"#7201a8\"],[0.3333333333333333,\"#9c179e\"],[0.4444444444444444,\"#bd3786\"],[0.5555555555555556,\"#d8576b\"],[0.6666666666666666,\"#ed7953\"],[0.7777777777777778,\"#fb9f3a\"],[0.8888888888888888,\"#fdca26\"],[1.0,\"#f0f921\"]]}],\"contourcarpet\":[{\"type\":\"contourcarpet\",\"colorbar\":{\"outlinewidth\":0,\"ticks\":\"\"}}],\"contour\":[{\"type\":\"contour\",\"colorbar\":{\"outlinewidth\":0,\"ticks\":\"\"},\"colorscale\":[[0.0,\"#0d0887\"],[0.1111111111111111,\"#46039f\"],[0.2222222222222222,\"#7201a8\"],[0.3333333333333333,\"#9c179e\"],[0.4444444444444444,\"#bd3786\"],[0.5555555555555556,\"#d8576b\"],[0.6666666666666666,\"#ed7953\"],[0.7777777777777778,\"#fb9f3a\"],[0.8888888888888888,\"#fdca26\"],[1.0,\"#f0f921\"]]}],\"surface\":[{\"type\":\"surface\",\"colorbar\":{\"outlinewidth\":0,\"ticks\":\"\"},\"colorscale\":[[0.0,\"#0d0887\"],[0.1111111111111111,\"#46039f\"],[0.2222222222222222,\"#7201a8\"],[0.3333333333333333,\"#9c179e\"],[0.4444444444444444,\"#bd3786\"],[0.5555555555555556,\"#d8576b\"],[0.6666666666666666,\"#ed7953\"],[0.7777777777777778,\"#fb9f3a\"],[0.8888888888888888,\"#fdca26\"],[1.0,\"#f0f921\"]]}],\"mesh3d\":[{\"type\":\"mesh3d\",\"colorbar\":{\"outlinewidth\":0,\"ticks\":\"\"}}],\"scatter\":[{\"fillpattern\":{\"fillmode\":\"overlay\",\"size\":10,\"solidity\":0.2},\"type\":\"scatter\"}],\"parcoords\":[{\"type\":\"parcoords\",\"line\":{\"colorbar\":{\"outlinewidth\":0,\"ticks\":\"\"}}}],\"scatterpolargl\":[{\"type\":\"scatterpolargl\",\"marker\":{\"colorbar\":{\"outlinewidth\":0,\"ticks\":\"\"}}}],\"bar\":[{\"error_x\":{\"color\":\"#2a3f5f\"},\"error_y\":{\"color\":\"#2a3f5f\"},\"marker\":{\"line\":{\"color\":\"#E5ECF6\",\"width\":0.5},\"pattern\":{\"fillmode\":\"overlay\",\"size\":10,\"solidity\":0.2}},\"type\":\"bar\"}],\"scattergeo\":[{\"type\":\"scattergeo\",\"marker\":{\"colorbar\":{\"outlinewidth\":0,\"ticks\":\"\"}}}],\"scatterpolar\":[{\"type\":\"scatterpolar\",\"marker\":{\"colorbar\":{\"outlinewidth\":0,\"ticks\":\"\"}}}],\"histogram\":[{\"marker\":{\"pattern\":{\"fillmode\":\"overlay\",\"size\":10,\"solidity\":0.2}},\"type\":\"histogram\"}],\"scattergl\":[{\"type\":\"scattergl\",\"marker\":{\"colorbar\":{\"outlinewidth\":0,\"ticks\":\"\"}}}],\"scatter3d\":[{\"type\":\"scatter3d\",\"line\":{\"colorbar\":{\"outlinewidth\":0,\"ticks\":\"\"}},\"marker\":{\"colorbar\":{\"outlinewidth\":0,\"ticks\":\"\"}}}],\"scattermapbox\":[{\"type\":\"scattermapbox\",\"marker\":{\"colorbar\":{\"outlinewidth\":0,\"ticks\":\"\"}}}],\"scatterternary\":[{\"type\":\"scatterternary\",\"marker\":{\"colorbar\":{\"outlinewidth\":0,\"ticks\":\"\"}}}],\"scattercarpet\":[{\"type\":\"scattercarpet\",\"marker\":{\"colorbar\":{\"outlinewidth\":0,\"ticks\":\"\"}}}],\"carpet\":[{\"aaxis\":{\"endlinecolor\":\"#2a3f5f\",\"gridcolor\":\"white\",\"linecolor\":\"white\",\"minorgridcolor\":\"white\",\"startlinecolor\":\"#2a3f5f\"},\"baxis\":{\"endlinecolor\":\"#2a3f5f\",\"gridcolor\":\"white\",\"linecolor\":\"white\",\"minorgridcolor\":\"white\",\"startlinecolor\":\"#2a3f5f\"},\"type\":\"carpet\"}],\"table\":[{\"cells\":{\"fill\":{\"color\":\"#EBF0F8\"},\"line\":{\"color\":\"white\"}},\"header\":{\"fill\":{\"color\":\"#C8D4E3\"},\"line\":{\"color\":\"white\"}},\"type\":\"table\"}],\"barpolar\":[{\"marker\":{\"line\":{\"color\":\"#E5ECF6\",\"width\":0.5},\"pattern\":{\"fillmode\":\"overlay\",\"size\":10,\"solidity\":0.2}},\"type\":\"barpolar\"}],\"pie\":[{\"automargin\":true,\"type\":\"pie\"}]},\"layout\":{\"autotypenumbers\":\"strict\",\"colorway\":[\"#636efa\",\"#EF553B\",\"#00cc96\",\"#ab63fa\",\"#FFA15A\",\"#19d3f3\",\"#FF6692\",\"#B6E880\",\"#FF97FF\",\"#FECB52\"],\"font\":{\"color\":\"#2a3f5f\"},\"hovermode\":\"closest\",\"hoverlabel\":{\"align\":\"left\"},\"paper_bgcolor\":\"white\",\"plot_bgcolor\":\"#E5ECF6\",\"polar\":{\"bgcolor\":\"#E5ECF6\",\"angularaxis\":{\"gridcolor\":\"white\",\"linecolor\":\"white\",\"ticks\":\"\"},\"radialaxis\":{\"gridcolor\":\"white\",\"linecolor\":\"white\",\"ticks\":\"\"}},\"ternary\":{\"bgcolor\":\"#E5ECF6\",\"aaxis\":{\"gridcolor\":\"white\",\"linecolor\":\"white\",\"ticks\":\"\"},\"baxis\":{\"gridcolor\":\"white\",\"linecolor\":\"white\",\"ticks\":\"\"},\"caxis\":{\"gridcolor\":\"white\",\"linecolor\":\"white\",\"ticks\":\"\"}},\"coloraxis\":{\"colorbar\":{\"outlinewidth\":0,\"ticks\":\"\"}},\"colorscale\":{\"sequential\":[[0.0,\"#0d0887\"],[0.1111111111111111,\"#46039f\"],[0.2222222222222222,\"#7201a8\"],[0.3333333333333333,\"#9c179e\"],[0.4444444444444444,\"#bd3786\"],[0.5555555555555556,\"#d8576b\"],[0.6666666666666666,\"#ed7953\"],[0.7777777777777778,\"#fb9f3a\"],[0.8888888888888888,\"#fdca26\"],[1.0,\"#f0f921\"]],\"sequentialminus\":[[0.0,\"#0d0887\"],[0.1111111111111111,\"#46039f\"],[0.2222222222222222,\"#7201a8\"],[0.3333333333333333,\"#9c179e\"],[0.4444444444444444,\"#bd3786\"],[0.5555555555555556,\"#d8576b\"],[0.6666666666666666,\"#ed7953\"],[0.7777777777777778,\"#fb9f3a\"],[0.8888888888888888,\"#fdca26\"],[1.0,\"#f0f921\"]],\"diverging\":[[0,\"#8e0152\"],[0.1,\"#c51b7d\"],[0.2,\"#de77ae\"],[0.3,\"#f1b6da\"],[0.4,\"#fde0ef\"],[0.5,\"#f7f7f7\"],[0.6,\"#e6f5d0\"],[0.7,\"#b8e186\"],[0.8,\"#7fbc41\"],[0.9,\"#4d9221\"],[1,\"#276419\"]]},\"xaxis\":{\"gridcolor\":\"white\",\"linecolor\":\"white\",\"ticks\":\"\",\"title\":{\"standoff\":15},\"zerolinecolor\":\"white\",\"automargin\":true,\"zerolinewidth\":2},\"yaxis\":{\"gridcolor\":\"white\",\"linecolor\":\"white\",\"ticks\":\"\",\"title\":{\"standoff\":15},\"zerolinecolor\":\"white\",\"automargin\":true,\"zerolinewidth\":2},\"scene\":{\"xaxis\":{\"backgroundcolor\":\"#E5ECF6\",\"gridcolor\":\"white\",\"linecolor\":\"white\",\"showbackground\":true,\"ticks\":\"\",\"zerolinecolor\":\"white\",\"gridwidth\":2},\"yaxis\":{\"backgroundcolor\":\"#E5ECF6\",\"gridcolor\":\"white\",\"linecolor\":\"white\",\"showbackground\":true,\"ticks\":\"\",\"zerolinecolor\":\"white\",\"gridwidth\":2},\"zaxis\":{\"backgroundcolor\":\"#E5ECF6\",\"gridcolor\":\"white\",\"linecolor\":\"white\",\"showbackground\":true,\"ticks\":\"\",\"zerolinecolor\":\"white\",\"gridwidth\":2}},\"shapedefaults\":{\"line\":{\"color\":\"#2a3f5f\"}},\"annotationdefaults\":{\"arrowcolor\":\"#2a3f5f\",\"arrowhead\":0,\"arrowwidth\":1},\"geo\":{\"bgcolor\":\"white\",\"landcolor\":\"#E5ECF6\",\"subunitcolor\":\"white\",\"showland\":true,\"showlakes\":true,\"lakecolor\":\"white\"},\"title\":{\"x\":0.05},\"mapbox\":{\"style\":\"light\"}}},\"xaxis\":{\"anchor\":\"y\",\"domain\":[0.0,1.0],\"title\":{\"text\":\"x\"}},\"yaxis\":{\"anchor\":\"x\",\"domain\":[0.0,1.0],\"title\":{\"text\":\"y\"}},\"legend\":{\"tracegroupgap\":0},\"margin\":{\"t\":60}},                        {\"responsive\": true}                    ).then(function(){\n",
              "                            \n",
              "var gd = document.getElementById('017a89a7-baba-443c-aaf0-ff3f1dc0ae0f');\n",
              "var x = new MutationObserver(function (mutations, observer) {{\n",
              "        var display = window.getComputedStyle(gd).display;\n",
              "        if (!display || display === 'none') {{\n",
              "            console.log([gd, 'removed!']);\n",
              "            Plotly.purge(gd);\n",
              "            observer.disconnect();\n",
              "        }}\n",
              "}});\n",
              "\n",
              "// Listen for the removal of the full notebook cells\n",
              "var notebookContainer = gd.closest('#notebook-container');\n",
              "if (notebookContainer) {{\n",
              "    x.observe(notebookContainer, {childList: true});\n",
              "}}\n",
              "\n",
              "// Listen for the clearing of the current output cell\n",
              "var outputEl = gd.closest('.output');\n",
              "if (outputEl) {{\n",
              "    x.observe(outputEl, {childList: true});\n",
              "}}\n",
              "\n",
              "                        })                };                            </script>        </div>\n",
              "</body>\n",
              "</html>"
            ]
          },
          "metadata": {}
        }
      ],
      "source": [
        "# Graficar los embedddings en 2D\n",
        "import plotly.graph_objects as go\n",
        "import plotly.express as px\n",
        "\n",
        "x_vals, y_vals, labels = reduce_dimensions(w2v_model)\n",
        "\n",
        "MAX_WORDS=200\n",
        "fig = px.scatter(x=x_vals[:MAX_WORDS], y=y_vals[:MAX_WORDS], text=labels[:MAX_WORDS])\n",
        "fig.show(renderer=\"colab\") # esto para plotly en colab"
      ]
    },
    {
      "cell_type": "markdown",
      "metadata": {
        "id": "yMM_SHSaZ9N-"
      },
      "source": [
        "### Alumno"
      ]
    },
    {
      "cell_type": "markdown",
      "metadata": {
        "id": "WivQZ3ZCZ9N_"
      },
      "source": [
        "- Crear sus propios vectores con Gensim basado en lo visto en clase con otro dataset.\n",
        "- Probar términos de interés y explicar similitudes en el espacio de embeddings (sacar conclusiones entre palabras similitudes y diferencias).\n",
        "- Graficarlos.\n",
        "- Obtener conclusiones."
      ]
    },
    {
      "cell_type": "markdown",
      "source": [
        "# Explicación del dataset utilizado\n",
        "\n",
        "Se utiliza un dtaset generado manualmente que contiene un conjunto de instrucciones se como realizar una tarea de seguimiento de pared, en total son 15 parrafos, cada 1 de ellos cuenta con una frase contextual con una estructura canónica en la que cambian algunos terminos clave, las tres frases siguientes solo cambia su sintaxis y no necesarimente sigue esa estructura canónica pero contiene aquellas palabras clave"
      ],
      "metadata": {
        "id": "1t_zi-w5AvhF"
      }
    },
    {
      "cell_type": "markdown",
      "source": [
        "## Conclusiones\n",
        "\n",
        "- Para el conjunto de datos en cuestión SkipGram da una mejor comparativa del contexto de las palabras en un plano cartesiano 2D. puede contener el contexto de \"alejarse\", \"alejandose\" o \"lejos\"  en un eje del plano mientras el contexto de estar \"cerca\" o \"acercandose\" llos generaliza al otro lado del plano.\n",
        "\n",
        "\n",
        "- CBOW es más disperso, genera similitudes no muy acertadas o no relaciona de alguna forma muy bien el contexto.\n",
        "\n",
        "- muchas epochs hacen que ambos modelos entreguen resultados considerados muy errados\n"
      ],
      "metadata": {
        "id": "DVx7lF7DCl_0"
      }
    }
  ],
  "metadata": {
    "colab": {
      "provenance": []
    },
    "kernelspec": {
      "display_name": "Python 3 (ipykernel)",
      "language": "python",
      "name": "python3"
    },
    "language_info": {
      "codemirror_mode": {
        "name": "ipython",
        "version": 3
      },
      "file_extension": ".py",
      "mimetype": "text/x-python",
      "name": "python",
      "nbconvert_exporter": "python",
      "pygments_lexer": "ipython3",
      "version": "3.10.6"
    }
  },
  "nbformat": 4,
  "nbformat_minor": 0
}